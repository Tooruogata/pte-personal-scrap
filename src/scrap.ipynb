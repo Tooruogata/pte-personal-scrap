{
 "cells": [
  {
   "cell_type": "code",
   "execution_count": 1,
   "id": "afe9db48",
   "metadata": {},
   "outputs": [],
   "source": [
    "import os"
   ]
  },
  {
   "cell_type": "code",
   "execution_count": 2,
   "id": "e0b84b1d",
   "metadata": {},
   "outputs": [
    {
     "name": "stdout",
     "output_type": "stream",
     "text": [
      "Python version: 3.12.1 (main, Mar 17 2025, 17:13:06) [GCC 9.4.0]\n",
      "Platform: Linux-6.8.0-1027-azure-x86_64-with-glibc2.31\n",
      "Processor: x86_64\n"
     ]
    }
   ],
   "source": [
    "import sys\n",
    "import platform\n",
    "\n",
    "print(\"Python version:\", sys.version)\n",
    "print(\"Platform:\", platform.platform())\n",
    "print(\"Processor:\", platform.processor())\n"
   ]
  },
  {
   "cell_type": "code",
   "execution_count": 3,
   "id": "2173d56b",
   "metadata": {},
   "outputs": [
    {
     "name": "stdout",
     "output_type": "stream",
     "text": [
      "Requirement already satisfied: psutil in /home/codespace/.local/lib/python3.12/site-packages (7.0.0)\n",
      "\n",
      "\u001b[1m[\u001b[0m\u001b[34;49mnotice\u001b[0m\u001b[1;39;49m]\u001b[0m\u001b[39;49m A new release of pip is available: \u001b[0m\u001b[31;49m25.0.1\u001b[0m\u001b[39;49m -> \u001b[0m\u001b[32;49m25.1.1\u001b[0m\n",
      "\u001b[1m[\u001b[0m\u001b[34;49mnotice\u001b[0m\u001b[1;39;49m]\u001b[0m\u001b[39;49m To update, run: \u001b[0m\u001b[32;49mpython3 -m pip install --upgrade pip\u001b[0m\n"
     ]
    }
   ],
   "source": [
    "!pip install psutil"
   ]
  },
  {
   "cell_type": "code",
   "execution_count": 4,
   "id": "ae66cefa",
   "metadata": {},
   "outputs": [
    {
     "name": "stdout",
     "output_type": "stream",
     "text": [
      "CPU cores: 2\n",
      "CPU usage (%): 12.1\n",
      "Total memory (GB): 8.32\n",
      "Used memory (GB): 2.12\n",
      "Available memory (GB): 5.81\n",
      "Total disk (GB): 33.64\n",
      "Used disk (GB): 11.45\n",
      "Free disk (GB): 20.45\n"
     ]
    }
   ],
   "source": [
    "import psutil\n",
    "\n",
    "# CPU\n",
    "print(\"CPU cores:\", psutil.cpu_count(logical=True))\n",
    "print(\"CPU usage (%):\", psutil.cpu_percent(interval=1))\n",
    "\n",
    "# Memory\n",
    "mem = psutil.virtual_memory()\n",
    "print(\"Total memory (GB):\", round(mem.total / 1e9, 2))\n",
    "print(\"Used memory (GB):\", round(mem.used / 1e9, 2))\n",
    "print(\"Available memory (GB):\", round(mem.available / 1e9, 2))\n",
    "\n",
    "# Disk\n",
    "disk = psutil.disk_usage('/')\n",
    "print(\"Total disk (GB):\", round(disk.total / 1e9, 2))\n",
    "print(\"Used disk (GB):\", round(disk.used / 1e9, 2))\n",
    "print(\"Free disk (GB):\", round(disk.free / 1e9, 2))\n"
   ]
  },
  {
   "cell_type": "code",
   "execution_count": null,
   "id": "1cd6ec4b",
   "metadata": {},
   "outputs": [],
   "source": []
  }
 ],
 "metadata": {
  "kernelspec": {
   "display_name": "Python 3",
   "language": "python",
   "name": "python3"
  },
  "language_info": {
   "codemirror_mode": {
    "name": "ipython",
    "version": 3
   },
   "file_extension": ".py",
   "mimetype": "text/x-python",
   "name": "python",
   "nbconvert_exporter": "python",
   "pygments_lexer": "ipython3",
   "version": "3.12.1"
  }
 },
 "nbformat": 4,
 "nbformat_minor": 5
}
